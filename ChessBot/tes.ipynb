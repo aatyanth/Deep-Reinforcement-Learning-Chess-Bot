{
 "cells": [
  {
   "cell_type": "code",
   "execution_count": 1,
   "metadata": {},
   "outputs": [],
   "source": [
    "from trainer.dataset import Dataset"
   ]
  },
  {
   "cell_type": "code",
   "execution_count": null,
   "metadata": {},
   "outputs": [
    {
     "name": "stdout",
     "output_type": "stream",
     "text": [
      "Tables in the HDF5 file:\n",
      "['data', 'encoded_data']\n",
      "Table Shape: (144625397,)\n",
      "Table Columns: ('black_kingside_castling_rights', 'black_queenside_castling_rights', 'board_position', 'from_square', 'length', 'moves', 'to_square', 'turn', 'white_kingside_castling_rights', 'white_queenside_castling_rights')\n",
      "[(1, 1, [ 5,  7,  9, 11, 13,  9,  7,  5,  3,  3,  3,  3,  3,  3,  3,  3,  0,  0,  0,  0,  0,  0,  0,  0,  0,  0,  0,  0,  0,  0,  0,  0,  0,  0,  0,  0,  2,  0,  0,  0,  0,  0,  0,  0,  1,  0,  0,  0,  2,  2,  2,  2,  0,  2,  2,  2,  4,  6,  8, 10, 12,  8,  6,  4], 11, 10, [1968,  695,  565, 1765, 1482, 1518,  614, 1555, 1140,  530,  952], 19, 0, 1, 1)\n",
      " (1, 1, [ 5,  7,  9, 11, 13,  9,  7,  5,  3,  3,  3,  0,  3,  3,  3,  3,  0,  0,  0,  3,  0,  0,  0,  0,  0,  0,  0,  0,  0,  0,  0,  0,  0,  0,  0,  2,  2,  0,  0,  0,  0,  0,  0,  1,  0,  0,  0,  0,  2,  2,  2,  0,  0,  2,  2,  2,  4,  6,  8, 10, 12,  8,  6,  4],  6, 10, [1968, 1765, 1482, 1518,  614, 1555, 1140,  530,  952, 1178,  931], 21, 0, 1, 1)\n",
      " (1, 1, [ 5,  7,  9, 11, 13,  9,  0,  5,  3,  3,  3,  0,  3,  3,  3,  3,  0,  0,  0,  3,  0,  7,  0,  0,  0,  0,  0,  0,  0,  0,  0,  0,  0,  0,  0,  2,  2,  0,  0,  0,  0,  0,  6,  0,  0,  0,  0,  0,  2,  2,  2,  0,  0,  2,  2,  2,  4,  0,  8, 10, 12,  8,  6,  4],  1, 10, [1968, 1518,  614, 1555, 1140,  530,  952, 1178,  931,  503,  356], 18, 0, 1, 1)\n",
      " (1, 1, [ 5,  0,  9, 11, 13,  9,  0,  5,  3,  3,  3,  0,  3,  3,  3,  3,  0,  0,  7,  3,  0,  7,  0,  0,  0,  0,  0,  2,  0,  0,  0,  0,  0,  0,  0,  0,  2,  0,  0,  0,  0,  0,  6,  0,  0,  0,  0,  0,  2,  2,  2,  0,  0,  2,  2,  2,  4,  0,  8, 10, 12,  8,  6,  4], 18, 10, [1968, 1555, 1140,  530,  952, 1178,  931,  503,  356,  318,   32],  1, 0, 1, 1)\n",
      " (1, 1, [ 5,  7,  9, 11, 13,  9,  0,  5,  3,  3,  3,  0,  3,  3,  3,  3,  0,  0,  0,  3,  0,  7,  0,  0,  0,  0,  0,  2,  0,  0,  0,  0,  0,  0,  0,  0,  2,  0,  0,  0,  0,  0,  6,  0,  0,  0,  2,  0,  2,  2,  2,  0,  0,  2,  0,  2,  4,  0,  8, 10, 12,  8,  6,  4],  2, 10, [1968,  530,  952, 1178,  931,  503,  356,  318,   32, 1255, 1730], 38, 0, 1, 1)]\n",
      "Sample Board Position: ...rr.k........p.p....p.........p.q.....P...p..P.PP...P..RR...QK\n",
      "Sample Turn: b\n",
      "Sample White Kingside Castling Rights: 0\n",
      "Sample White Queenside Castling Rights: 0\n",
      "Sample Black Kingside Castling Rights: 0\n",
      "Sample Black Queenside Castling Rights: 0\n",
      "Sample Moves: ['<move>', 'd8d2', 'b2b3', 'c4c3', 'b3a4', 'd2c2', 'c1e1', 'c3a3', 'b1b6', 'e3e2', 'g1d4']\n",
      "Sample Length: 10\n",
      "Sample From Square: b'd8'\n",
      "Sample To Square: b'd2'\n",
      "Data Type Information: [('black_kingside_castling_rights', 'u1'), ('black_queenside_castling_rights', 'u1'), ('board_position', 'S64'), ('from_square', 'S2'), ('length', 'i1'), ('moves', 'S8', (11,)), ('to_square', 'S2'), ('turn', 'S1'), ('white_kingside_castling_rights', 'u1'), ('white_queenside_castling_rights', 'u1')]\n"
     ]
    }
   ],
   "source": [
    "import h5py\n",
    "import pandas as pd\n",
    "import numpy as np\n",
    "import matplotlib.pyplot as plt\n",
    "\n",
    "# Load the HDF5 file\n",
    "file_path = '../data/ML23d.h5'\n",
    "\n",
    "\n",
    "\n",
    "\n",
    "with h5py.File(file_path, 'r') as f:\n",
    "    # Only read the first 1000 rows\n",
    "    data = f['data'][1000:]\n",
    "\n",
    "    # Access the first sample\n",
    "    sample = data[1]\n",
    "\n",
    "    # Decode and print all fields in a human-readable format\n",
    "    print('Sample Board Position:', sample['board_position'].decode('utf-8'))\n",
    "    print('Sample Turn:', sample['turn'].decode('utf-8'))\n",
    "    print('Sample White Kingside Castling Rights:', sample['white_kingside_castling_rights'])\n",
    "    print('Sample White Queenside Castling Rights:', sample['white_queenside_castling_rights'])\n",
    "    print('Sample Black Kingside Castling Rights:', sample['black_kingside_castling_rights'])\n",
    "    print('Sample Black Queenside Castling Rights:', sample['black_queenside_castling_rights'])\n",
    "    print('Sample Moves:', [move.decode('utf-8') for move in sample['moves']])\n",
    "    print('Sample Length:', sample['length'])\n",
    "    print('Sample From Square:', sample['from_square'])\n",
    "    print('Sample To Square:', sample['to_square'])\n",
    "\n",
    "    # Display the dtype to verify available fields\n",
    "    print('Data Type Information:', data.dtype)\n",
    "\n",
    "\n"
   ]
  },
  {
   "cell_type": "code",
   "execution_count": null,
   "metadata": {},
   "outputs": [],
   "source": []
  },
  {
   "cell_type": "code",
   "execution_count": null,
   "metadata": {},
   "outputs": [],
   "source": []
  }
 ],
 "metadata": {
  "kernelspec": {
   "display_name": "chessenv",
   "language": "python",
   "name": "python3"
  },
  "language_info": {
   "codemirror_mode": {
    "name": "ipython",
    "version": 3
   },
   "file_extension": ".py",
   "mimetype": "text/x-python",
   "name": "python",
   "nbconvert_exporter": "python",
   "pygments_lexer": "ipython3",
   "version": "3.9.21"
  }
 },
 "nbformat": 4,
 "nbformat_minor": 2
}
